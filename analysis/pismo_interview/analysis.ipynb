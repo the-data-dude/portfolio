{
 "cells": [
  {
   "cell_type": "markdown",
   "metadata": {},
   "source": [
    "## Pismo - Case para vaga de Analytics Engineer III\n",
    "#### Autor: Edson Delavia"
   ]
  },
  {
   "cell_type": "markdown",
   "metadata": {},
   "source": [
    "## Contexto\n",
    "Foi solicitado um crawler para puxar as cotações históricas de algumas moedas, persistir as informações em alguma base relacional, cruzar com um csv que apresenta os valores históricos do café e disponibilizar as seguintes informações:\n",
    " - Maior volume negociado de café no dia e as cotações de fechamento\n",
    " - Total de café negociado por ano e as cotações\n",
    " - Média de volume negociado mensal e anual\n",
    " - Um dash apresentando em formato big number a última cotação do café em diferentes moedas e o histórico de variação do preço do café ao longo do tempo."
   ]
  },
  {
   "cell_type": "markdown",
   "metadata": {},
   "source": [
    "## Setup\n",
    "para facilitar a testabilidade, foi criado um script de setup que automatiza as seguintes tarefas:\n",
    "- Cria um ambiente virtual em python3\n",
    "- Instala as bibliotecas necessárias\n",
    "- Cria o banco em sqlite e o schema para receber as informações depois\n",
    "- Persiste no banco as informações do csv coffee.csv, localizado na pasta \"entries\"\n",
    "- Roda o crawler com informações de 2019 à 2022-08-31 e persiste as informações no banco, no esquema de merge (se a informação existir, será sobrescrita)\n",
    "\n",
    "O processo todo demora em média 23 minutos (resultados mensurados após uma bateria de 11 testes), grande parte do tempo é para instalar as libs, principalmente pandas e jupyter.\n",
    "\n",
    "Para rodar o setup, basta rodar a célula abaixo, o %%capture serve para as mensagens de log não serem apresentadas no output da célula, por apresentar informações demais e poluir o notebook"
   ]
  },
  {
   "cell_type": "code",
   "execution_count": 11,
   "metadata": {},
   "outputs": [],
   "source": [
    "%%capture\n",
    "\n",
    "! source setup.sh"
   ]
  },
  {
   "cell_type": "markdown",
   "metadata": {},
   "source": [
    "## Consultas"
   ]
  },
  {
   "cell_type": "code",
   "execution_count": 19,
   "metadata": {},
   "outputs": [
    {
     "name": "stdout",
     "output_type": "stream",
     "text": [
      "The sql extension is already loaded. To reload it, use:\n",
      "  %reload_ext sql\n"
     ]
    }
   ],
   "source": [
    "%load_ext sql\n",
    "%sql sqlite:///quotes.db"
   ]
  },
  {
   "cell_type": "code",
   "execution_count": 59,
   "metadata": {},
   "outputs": [],
   "source": [
    "import pandas as pd"
   ]
  },
  {
   "cell_type": "markdown",
   "metadata": {},
   "source": [
    "### Maior volume negociado de café no dia e as cotações de fechamento\n",
    "\n",
    "Obs: aqui tomei a liberdade para já converter o valor do café nas cotações de cada país"
   ]
  },
  {
   "cell_type": "code",
   "execution_count": 51,
   "metadata": {},
   "outputs": [
    {
     "name": "stdout",
     "output_type": "stream",
     "text": [
      " * sqlite:///quotes.db\n",
      "Done.\n"
     ]
    },
    {
     "data": {
      "text/html": [
       "<table>\n",
       "    <tr>\n",
       "        <th>DATE</th>\n",
       "        <th>COFFEE_USD</th>\n",
       "        <th>COFFEE_BRL</th>\n",
       "        <th>COFFEE_CLP</th>\n",
       "        <th>COFFEE_EUR</th>\n",
       "    </tr>\n",
       "    <tr>\n",
       "        <td>2019-01-02</td>\n",
       "        <td>102.65</td>\n",
       "        <td>389.03</td>\n",
       "        <td>71528.63</td>\n",
       "        <td>90.7</td>\n",
       "    </tr>\n",
       "    <tr>\n",
       "        <td>2019-01-03</td>\n",
       "        <td>103.25</td>\n",
       "        <td>387.87</td>\n",
       "        <td>71634.76</td>\n",
       "        <td>90.65</td>\n",
       "    </tr>\n",
       "    <tr>\n",
       "        <td>2019-01-04</td>\n",
       "        <td>103.0</td>\n",
       "        <td>382.67</td>\n",
       "        <td>70164.0</td>\n",
       "        <td>90.39</td>\n",
       "    </tr>\n",
       "    <tr>\n",
       "        <td>2019-01-07</td>\n",
       "        <td>103.45</td>\n",
       "        <td>386.45</td>\n",
       "        <td>70475.27</td>\n",
       "        <td>90.12</td>\n",
       "    </tr>\n",
       "    <tr>\n",
       "        <td>2019-01-08</td>\n",
       "        <td>106.05</td>\n",
       "        <td>393.86</td>\n",
       "        <td>72156.48</td>\n",
       "        <td>92.57</td>\n",
       "    </tr>\n",
       "    <tr>\n",
       "        <td>2019-01-09</td>\n",
       "        <td>106.85</td>\n",
       "        <td>393.37</td>\n",
       "        <td>72230.61</td>\n",
       "        <td>92.47</td>\n",
       "    </tr>\n",
       "    <tr>\n",
       "        <td>2019-01-10</td>\n",
       "        <td>106.0</td>\n",
       "        <td>393.41</td>\n",
       "        <td>71666.31</td>\n",
       "        <td>92.12</td>\n",
       "    </tr>\n",
       "    <tr>\n",
       "        <td>2019-01-11</td>\n",
       "        <td>104.8</td>\n",
       "        <td>388.96</td>\n",
       "        <td>70729.93</td>\n",
       "        <td>91.37</td>\n",
       "    </tr>\n",
       "    <tr>\n",
       "        <td>2019-01-14</td>\n",
       "        <td>103.55</td>\n",
       "        <td>383.03</td>\n",
       "        <td>69761.33</td>\n",
       "        <td>90.26</td>\n",
       "    </tr>\n",
       "    <tr>\n",
       "        <td>2019-01-15</td>\n",
       "        <td>102.9</td>\n",
       "        <td>382.57</td>\n",
       "        <td>69509.17</td>\n",
       "        <td>90.15</td>\n",
       "    </tr>\n",
       "</table>"
      ],
      "text/plain": [
       "[('2019-01-02', 102.65, 389.03, 71528.63, 90.7),\n",
       " ('2019-01-03', 103.25, 387.87, 71634.76, 90.65),\n",
       " ('2019-01-04', 103.0, 382.67, 70164.0, 90.39),\n",
       " ('2019-01-07', 103.45, 386.45, 70475.27, 90.12),\n",
       " ('2019-01-08', 106.05, 393.86, 72156.48, 92.57),\n",
       " ('2019-01-09', 106.85, 393.37, 72230.61, 92.47),\n",
       " ('2019-01-10', 106.0, 393.41, 71666.31, 92.12),\n",
       " ('2019-01-11', 104.8, 388.96, 70729.93, 91.37),\n",
       " ('2019-01-14', 103.55, 383.03, 69761.33, 90.26),\n",
       " ('2019-01-15', 102.9, 382.57, 69509.17, 90.15)]"
      ]
     },
     "execution_count": 51,
     "metadata": {},
     "output_type": "execute_result"
    }
   ],
   "source": [
    "%%sql\n",
    "\n",
    "-- aqui pivotei usando o filter, na segunda questão eu uso a forma de CASE WHEN, apenas para mostrar duas formas diferentes mesmo\n",
    "-- já que sqlite não tem a função PIVOT nativa\n",
    "\n",
    "SELECT\n",
    "    coffee.Date as DATE,\n",
    "    coffee.High as COFFEE_USD,\n",
    "    round(coffee.High * max(quotes.value) filter(where quotes.currency = 'USDBRL'), 2) as COFFEE_BRL,\n",
    "    round(coffee.High * max(quotes.value) filter(where quotes.currency = 'USDCLP'), 2) as COFFEE_CLP,\n",
    "    round(coffee.High * max(quotes.value) filter(where quotes.currency = 'USDEUR'), 2) as COFFEE_EUR\n",
    "FROM\n",
    "    coffee\n",
    "INNER JOIN  \n",
    "    daily_quotes as quotes on quotes.date = coffee.Date\n",
    "GROUP BY\n",
    "    coffee.Date,\n",
    "    coffee.High\n",
    "LIMIT 10"
   ]
  },
  {
   "cell_type": "markdown",
   "metadata": {},
   "source": [
    "### Total de café negociado por ano e as cotações"
   ]
  },
  {
   "cell_type": "code",
   "execution_count": 52,
   "metadata": {},
   "outputs": [
    {
     "name": "stdout",
     "output_type": "stream",
     "text": [
      " * sqlite:///quotes.db\n",
      "Done.\n"
     ]
    },
    {
     "data": {
      "text/html": [
       "<table>\n",
       "    <tr>\n",
       "        <th>YEAR</th>\n",
       "        <th>COFFEE_TOTAL_VOLUME</th>\n",
       "        <th>USDBRL</th>\n",
       "        <th>USDCLP</th>\n",
       "        <th>USDEUR</th>\n",
       "    </tr>\n",
       "    <tr>\n",
       "        <td>2019</td>\n",
       "        <td>4011645</td>\n",
       "        <td>4.02</td>\n",
       "        <td>739.4031</td>\n",
       "        <td>0.8913</td>\n",
       "    </tr>\n",
       "    <tr>\n",
       "        <td>2020</td>\n",
       "        <td>3078378</td>\n",
       "        <td>5.1936</td>\n",
       "        <td>710.5025</td>\n",
       "        <td>0.8211</td>\n",
       "    </tr>\n",
       "    <tr>\n",
       "        <td>2021</td>\n",
       "        <td>3127536</td>\n",
       "        <td>5.5713</td>\n",
       "        <td>852.0004</td>\n",
       "        <td>0.8794</td>\n",
       "    </tr>\n",
       "    <tr>\n",
       "        <td>2022</td>\n",
       "        <td>2374254</td>\n",
       "        <td>5.1833</td>\n",
       "        <td>897.0002</td>\n",
       "        <td>0.9961</td>\n",
       "    </tr>\n",
       "</table>"
      ],
      "text/plain": [
       "[('2019', 4011645, 4.02, 739.4031, 0.8913),\n",
       " ('2020', 3078378, 5.1936, 710.5025, 0.8211),\n",
       " ('2021', 3127536, 5.5713, 852.0004, 0.8794),\n",
       " ('2022', 2374254, 5.1833, 897.0002, 0.9961)]"
      ]
     },
     "execution_count": 52,
     "metadata": {},
     "output_type": "execute_result"
    }
   ],
   "source": [
    "%%sql\n",
    "\n",
    "WITH\n",
    "\n",
    "coffe_volume_by_year as (\n",
    "SELECT\n",
    "    strftime('%Y', Date) as YEAR,\n",
    "    sum(Volume) as COFFEE_TOTAL_VOLUME\n",
    "FROM\n",
    "    coffee\n",
    "GROUP BY\n",
    "    strftime('%Y', Date)\n",
    "),\n",
    "\n",
    "quotes_yearly_closes as (\n",
    "SELECT\n",
    "    date,\n",
    "    row_number() over (partition by currency, strftime('%Y', date) order by date desc) as last_date_of_year,\n",
    "    currency,\n",
    "    value\n",
    "FROM\n",
    "    daily_quotes\n",
    "),\n",
    "\n",
    "pivoted_yearly_closes as (\n",
    "SELECT\n",
    "    strftime('%Y', date) as YEAR,\n",
    "    date as QUOTE_REF_DATE,\n",
    "    round(avg(case when currency = 'USDBRL' then value end), 4) as USDBRL,\n",
    "    round(avg(case when currency = 'USDCLP' then value end), 4) as USDCLP,\n",
    "    round(avg(case when currency = 'USDEUR' then value end), 4) as USDEUR\n",
    "FROM\n",
    "    quotes_yearly_closes\n",
    "WHERE\n",
    "    last_date_of_year = 1\n",
    "GROUP BY\n",
    "    strftime('%Y', date),\n",
    "    date\n",
    "),\n",
    "\n",
    "result as (\n",
    "SELECT\n",
    "    coffee.YEAR,\n",
    "    coffee.COFFEE_TOTAL_VOLUME,\n",
    "    quotes.USDBRL,\n",
    "    quotes.USDCLP,\n",
    "    quotes.USDEUR\n",
    "FROM\n",
    "    coffe_volume_by_year as coffee\n",
    "INNER JOIN \n",
    "    pivoted_yearly_closes as quotes using (YEAR)\n",
    ")\n",
    "\n",
    "select * from result"
   ]
  },
  {
   "cell_type": "markdown",
   "metadata": {},
   "source": [
    "### Média de volume negociado mensal e anual"
   ]
  },
  {
   "cell_type": "code",
   "execution_count": 58,
   "metadata": {},
   "outputs": [
    {
     "name": "stdout",
     "output_type": "stream",
     "text": [
      " * sqlite:///quotes.db\n",
      "Done.\n"
     ]
    },
    {
     "data": {
      "text/html": [
       "<table>\n",
       "    <tr>\n",
       "        <th>YEAR</th>\n",
       "        <th>YEARMONTH</th>\n",
       "        <th>YEAR_AVG_VOLUME</th>\n",
       "        <th>MONTH_AVG_VOLUME</th>\n",
       "    </tr>\n",
       "    <tr>\n",
       "        <td>2019</td>\n",
       "        <td>2019-01</td>\n",
       "        <td>15919.0</td>\n",
       "        <td>21827.0</td>\n",
       "    </tr>\n",
       "    <tr>\n",
       "        <td>2019</td>\n",
       "        <td>2019-02</td>\n",
       "        <td>15919.0</td>\n",
       "        <td>17393.0</td>\n",
       "    </tr>\n",
       "    <tr>\n",
       "        <td>2019</td>\n",
       "        <td>2019-03</td>\n",
       "        <td>15919.0</td>\n",
       "        <td>8917.0</td>\n",
       "    </tr>\n",
       "    <tr>\n",
       "        <td>2019</td>\n",
       "        <td>2019-04</td>\n",
       "        <td>15919.0</td>\n",
       "        <td>23584.0</td>\n",
       "    </tr>\n",
       "    <tr>\n",
       "        <td>2019</td>\n",
       "        <td>2019-05</td>\n",
       "        <td>15919.0</td>\n",
       "        <td>13223.0</td>\n",
       "    </tr>\n",
       "    <tr>\n",
       "        <td>2019</td>\n",
       "        <td>2019-06</td>\n",
       "        <td>15919.0</td>\n",
       "        <td>22038.0</td>\n",
       "    </tr>\n",
       "    <tr>\n",
       "        <td>2019</td>\n",
       "        <td>2019-07</td>\n",
       "        <td>15919.0</td>\n",
       "        <td>8820.0</td>\n",
       "    </tr>\n",
       "    <tr>\n",
       "        <td>2019</td>\n",
       "        <td>2019-08</td>\n",
       "        <td>15919.0</td>\n",
       "        <td>15226.0</td>\n",
       "    </tr>\n",
       "    <tr>\n",
       "        <td>2019</td>\n",
       "        <td>2019-09</td>\n",
       "        <td>15919.0</td>\n",
       "        <td>7426.0</td>\n",
       "    </tr>\n",
       "    <tr>\n",
       "        <td>2019</td>\n",
       "        <td>2019-10</td>\n",
       "        <td>15919.0</td>\n",
       "        <td>24074.0</td>\n",
       "    </tr>\n",
       "    <tr>\n",
       "        <td>2019</td>\n",
       "        <td>2019-11</td>\n",
       "        <td>15919.0</td>\n",
       "        <td>21132.0</td>\n",
       "    </tr>\n",
       "    <tr>\n",
       "        <td>2019</td>\n",
       "        <td>2019-12</td>\n",
       "        <td>15919.0</td>\n",
       "        <td>7369.0</td>\n",
       "    </tr>\n",
       "</table>"
      ],
      "text/plain": [
       "[('2019', '2019-01', 15919.0, 21827.0),\n",
       " ('2019', '2019-02', 15919.0, 17393.0),\n",
       " ('2019', '2019-03', 15919.0, 8917.0),\n",
       " ('2019', '2019-04', 15919.0, 23584.0),\n",
       " ('2019', '2019-05', 15919.0, 13223.0),\n",
       " ('2019', '2019-06', 15919.0, 22038.0),\n",
       " ('2019', '2019-07', 15919.0, 8820.0),\n",
       " ('2019', '2019-08', 15919.0, 15226.0),\n",
       " ('2019', '2019-09', 15919.0, 7426.0),\n",
       " ('2019', '2019-10', 15919.0, 24074.0),\n",
       " ('2019', '2019-11', 15919.0, 21132.0),\n",
       " ('2019', '2019-12', 15919.0, 7369.0)]"
      ]
     },
     "execution_count": 58,
     "metadata": {},
     "output_type": "execute_result"
    }
   ],
   "source": [
    "%%sql\n",
    "\n",
    "SELECT DISTINCT\n",
    "    strftime('%Y', Date) as YEAR,\n",
    "    strftime('%Y-%m', Date) as YEARMONTH,\n",
    "    round(avg(Volume) over (partition by strftime('%Y', Date)),  0) as YEAR_AVG_VOLUME,\n",
    "    round(avg(Volume) over (partition by strftime('%Y-%m', Date)), 0) as MONTH_AVG_VOLUME\n",
    "FROM\n",
    "    coffee\n",
    "LIMIT 12"
   ]
  },
  {
   "cell_type": "markdown",
   "metadata": {},
   "source": [
    "### Dashboard\n",
    "\n",
    "Para elaborar o dashboard, vamos usar a mesma base da primeira questão, mas pegaremos apenas as cotações do último dia dos meses fechados. Assim conseguimos ver uma visão de fechamento mensal sem a variabilidade diária que costuma poluir algumas análises. Os resultados serão salvos na pasta \"results\"."
   ]
  },
  {
   "cell_type": "code",
   "execution_count": 72,
   "metadata": {},
   "outputs": [
    {
     "name": "stdout",
     "output_type": "stream",
     "text": [
      " * sqlite:///quotes.db\n",
      "Done.\n",
      "Returning data to local variable dashboard_results\n"
     ]
    }
   ],
   "source": [
    "%%sql\n",
    "\n",
    "dashboard_results <<\n",
    "\n",
    "WITH\n",
    "\n",
    "pivoted_data as (\n",
    "SELECT\n",
    "    coffee.Date as DATE,\n",
    "    coffee.High as COFFEE_USD,\n",
    "    round(coffee.High * max(quotes.value) filter(where quotes.currency = 'USDBRL'), 2) as COFFEE_BRL,\n",
    "    round(coffee.High * max(quotes.value) filter(where quotes.currency = 'USDCLP'), 2) as COFFEE_CLP,\n",
    "    round(coffee.High * max(quotes.value) filter(where quotes.currency = 'USDEUR'), 2) as COFFEE_EUR\n",
    "FROM\n",
    "    coffee\n",
    "INNER JOIN  \n",
    "    daily_quotes as quotes on quotes.date = coffee.Date\n",
    "GROUP BY\n",
    "    coffee.Date,\n",
    "    coffee.High\n",
    "),\n",
    "\n",
    "month_closes_flag as (\n",
    "SELECT\n",
    "    *,\n",
    "    row_number() over (partition by strftime(\"%Y-%m\", DATE) order by DATE desc) = 1 is_last_date_of_month\n",
    "FROM\n",
    "    pivoted_data\n",
    "),\n",
    "\n",
    "result as (\n",
    "SELECT\n",
    "    DATE,\n",
    "    COFFEE_USD,\n",
    "    COFFEE_BRL,\n",
    "    COFFEE_CLP,\n",
    "    COFFEE_EUR\n",
    "FROM\n",
    "    month_closes_flag\n",
    "WHERE\n",
    "    is_last_date_of_month = True\n",
    ")\n",
    "\n",
    "select * from result"
   ]
  },
  {
   "cell_type": "code",
   "execution_count": 78,
   "metadata": {},
   "outputs": [
    {
     "data": {
      "text/html": [
       "<div>\n",
       "<style scoped>\n",
       "    .dataframe tbody tr th:only-of-type {\n",
       "        vertical-align: middle;\n",
       "    }\n",
       "\n",
       "    .dataframe tbody tr th {\n",
       "        vertical-align: top;\n",
       "    }\n",
       "\n",
       "    .dataframe thead th {\n",
       "        text-align: right;\n",
       "    }\n",
       "</style>\n",
       "<table border=\"1\" class=\"dataframe\">\n",
       "  <thead>\n",
       "    <tr style=\"text-align: right;\">\n",
       "      <th></th>\n",
       "      <th>DATE</th>\n",
       "      <th>COFFEE_USD</th>\n",
       "      <th>COFFEE_BRL</th>\n",
       "      <th>COFFEE_CLP</th>\n",
       "      <th>COFFEE_EUR</th>\n",
       "    </tr>\n",
       "  </thead>\n",
       "  <tbody>\n",
       "    <tr>\n",
       "      <th>0</th>\n",
       "      <td>2019-01-31</td>\n",
       "      <td>106.35</td>\n",
       "      <td>387.57</td>\n",
       "      <td>70474.96</td>\n",
       "      <td>92.91</td>\n",
       "    </tr>\n",
       "    <tr>\n",
       "      <th>1</th>\n",
       "      <td>2019-02-28</td>\n",
       "      <td>95.55</td>\n",
       "      <td>358.41</td>\n",
       "      <td>62661.19</td>\n",
       "      <td>84.01</td>\n",
       "    </tr>\n",
       "    <tr>\n",
       "      <th>2</th>\n",
       "      <td>2019-03-29</td>\n",
       "      <td>95.65</td>\n",
       "      <td>375.24</td>\n",
       "      <td>65090.20</td>\n",
       "      <td>85.16</td>\n",
       "    </tr>\n",
       "    <tr>\n",
       "      <th>3</th>\n",
       "      <td>2019-04-30</td>\n",
       "      <td>93.85</td>\n",
       "      <td>367.74</td>\n",
       "      <td>63601.92</td>\n",
       "      <td>83.68</td>\n",
       "    </tr>\n",
       "    <tr>\n",
       "      <th>4</th>\n",
       "      <td>2019-05-31</td>\n",
       "      <td>105.30</td>\n",
       "      <td>413.31</td>\n",
       "      <td>74729.35</td>\n",
       "      <td>94.03</td>\n",
       "    </tr>\n",
       "    <tr>\n",
       "      <th>5</th>\n",
       "      <td>2019-06-28</td>\n",
       "      <td>109.00</td>\n",
       "      <td>419.76</td>\n",
       "      <td>73847.93</td>\n",
       "      <td>95.70</td>\n",
       "    </tr>\n",
       "    <tr>\n",
       "      <th>6</th>\n",
       "      <td>2019-07-31</td>\n",
       "      <td>100.45</td>\n",
       "      <td>383.04</td>\n",
       "      <td>70677.12</td>\n",
       "      <td>90.73</td>\n",
       "    </tr>\n",
       "    <tr>\n",
       "      <th>7</th>\n",
       "      <td>2019-08-30</td>\n",
       "      <td>93.30</td>\n",
       "      <td>386.77</td>\n",
       "      <td>67295.89</td>\n",
       "      <td>84.74</td>\n",
       "    </tr>\n",
       "    <tr>\n",
       "      <th>8</th>\n",
       "      <td>2019-09-30</td>\n",
       "      <td>102.45</td>\n",
       "      <td>425.81</td>\n",
       "      <td>74647.09</td>\n",
       "      <td>94.00</td>\n",
       "    </tr>\n",
       "    <tr>\n",
       "      <th>9</th>\n",
       "      <td>2019-10-31</td>\n",
       "      <td>102.25</td>\n",
       "      <td>410.79</td>\n",
       "      <td>76084.64</td>\n",
       "      <td>91.65</td>\n",
       "    </tr>\n",
       "  </tbody>\n",
       "</table>\n",
       "</div>"
      ],
      "text/plain": [
       "         DATE  COFFEE_USD  COFFEE_BRL  COFFEE_CLP  COFFEE_EUR\n",
       "0  2019-01-31      106.35      387.57    70474.96       92.91\n",
       "1  2019-02-28       95.55      358.41    62661.19       84.01\n",
       "2  2019-03-29       95.65      375.24    65090.20       85.16\n",
       "3  2019-04-30       93.85      367.74    63601.92       83.68\n",
       "4  2019-05-31      105.30      413.31    74729.35       94.03\n",
       "5  2019-06-28      109.00      419.76    73847.93       95.70\n",
       "6  2019-07-31      100.45      383.04    70677.12       90.73\n",
       "7  2019-08-30       93.30      386.77    67295.89       84.74\n",
       "8  2019-09-30      102.45      425.81    74647.09       94.00\n",
       "9  2019-10-31      102.25      410.79    76084.64       91.65"
      ]
     },
     "execution_count": 78,
     "metadata": {},
     "output_type": "execute_result"
    }
   ],
   "source": [
    "dash_df = dashboard_results.DataFrame()\n",
    "\n",
    "dash_df.to_csv('results/dashboard_results.csv', sep = ';', encoding = 'utf8')\n",
    "\n",
    "dash_df[:10]"
   ]
  },
  {
   "cell_type": "markdown",
   "metadata": {},
   "source": [
    "O dashboard pode ser acessado através do link https://datastudio.google.com/s/gqhqJWTFuKY, mas também foi incorporado abaixo no notebook, mas só funciona caso execute o notebook localmente, não aparece no github"
   ]
  },
  {
   "cell_type": "markdown",
   "metadata": {},
   "source": [
    "<iframe width=\"600\" height=\"750\" src=\"https://datastudio.google.com/embed/reporting/604bcdc5-81df-45ab-abf4-ddd152bd9ddc/page/g7v5C\" frameborder=\"0\" style=\"border:0\" allowfullscreen></iframe>"
   ]
  }
 ],
 "metadata": {
  "kernelspec": {
   "display_name": "Python 3.8.10 ('venv': venv)",
   "language": "python",
   "name": "python3"
  },
  "language_info": {
   "codemirror_mode": {
    "name": "ipython",
    "version": 3
   },
   "file_extension": ".py",
   "mimetype": "text/x-python",
   "name": "python",
   "nbconvert_exporter": "python",
   "pygments_lexer": "ipython3",
   "version": "3.8.10"
  },
  "orig_nbformat": 4,
  "vscode": {
   "interpreter": {
    "hash": "e3506a388c0583e23219dbf7d29c3ac163ca63cefeb131ec71eef2f21651d246"
   }
  }
 },
 "nbformat": 4,
 "nbformat_minor": 2
}
